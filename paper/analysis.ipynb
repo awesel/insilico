{
 "cells": [
  {
   "cell_type": "code",
   "execution_count": null,
   "metadata": {},
   "outputs": [],
   "source": [
    "import pandas as pd\n",
    "import matplotlib \n",
    "matplotlib.use('Agg')  # For scripts\n",
    "matplotlib.use('TkAgg')  # For interactive display"
   ]
  },
  {
   "cell_type": "code",
   "execution_count": 10,
   "metadata": {},
   "outputs": [],
   "source": [
    "llm_data_path = '/Users/andrew/insilico-surveys/paper/llm/data.xlsx'\n",
    "llmdf = pd.read_excel(llm_data_path)\n",
    "\n",
    "human_data_path = '/Users/andrew/insilico-surveys/paper/human/data.xlsx'"
   ]
  },
  {
   "cell_type": "code",
   "execution_count": 3,
   "metadata": {},
   "outputs": [],
   "source": [
    "# Define the mapping based on the codebook\n",
    "question_mapping = {\n",
    "    \"Q2\": \"Is your family overweight or obese?\",\n",
    "    \"Q3\": \"Do you frequently consume fast food?\",\n",
    "    \"Q4\": \"How often do you consume vegetables?\",\n",
    "    \"Q5\": \"How many meals do you have in a day?\",\n",
    "    \"Q6\": \"How often do you eat between meals?\",\n",
    "    \"Q7\": \"Do you smoke?\",\n",
    "    \"Q8\": \"How much liquid do you drink per day?\",\n",
    "    \"Q9\": \"Do you calculate your calorie intake?\",\n",
    "    \"Q10\": \"How often do you get physical exercise?\",\n",
    "    \"Q11\": \"How much time is spent using technology per day?\",\n",
    "    \"Q12\": \"What type of transportation do you use most often?\",\n",
    "    \"Q13\": \"What is your weight class?\"\n",
    "}\n",
    "\n",
    "# Define answer choices\n",
    "answer_choices = {\n",
    "    \"Q2\": {1: \"Yes\", 2: \"No\"},\n",
    "    \"Q3\": {1: \"Yes\", 2: \"No\"},\n",
    "    \"Q4\": {1: \"Rarely\", 2: \"Often\", 3: \"Always\"},\n",
    "    \"Q5\": {1: \"1-2 meals\", 2: \"3 meals\", 3: \"3+ meals\"},\n",
    "    \"Q6\": {1: \"Rarely\", 2: \"Often\", 3: \"Usually\", 4: \"Always\"},\n",
    "    \"Q7\": {1: \"Yes\", 2: \"No\"},\n",
    "    \"Q8\": {1: \"<1L\", 2: \"1-2L\", 3: \">2L\"},\n",
    "    \"Q9\": {1: \"Yes\", 2: \"No\"},\n",
    "    \"Q10\": {1: \"No activity\", 2: \"1-2 days\", 3: \"3-4 days\", 4: \"5-6 days\", 5: \"6+ days\"},\n",
    "    \"Q11\": {1: \"0-2 hours\", 2: \"3-5 hours\", 3: \">5 hours\"},\n",
    "    \"Q12\": {1: \"Automobile\", 2: \"Motorbike\", 3: \"Bike\", 4: \"Public Transport\", 5: \"Walking\"},\n",
    "    \"Q13\": {1: \"Underweight\", 2: \"Normal\", 3: \"Overweight\", 4: \"Obese\"}\n",
    "}\n"
   ]
  },
  {
   "cell_type": "code",
   "execution_count": null,
   "metadata": {},
   "outputs": [],
   "source": [
    "for q, title in question_mapping.items():\n",
    "    if q in llmdf.columns:\n",
    "        print(f\"Processing question: {q}\")\n",
    "        print(llmdf[q].head())  # Check raw data\n",
    "        data = llmdf[q].map(answer_choices[q])\n",
    "        print(data.head())  # Check mapped values\n",
    "        counts = data.value_counts()\n",
    "        print(counts)  # Check counts before plotting\n",
    "        \n",
    "        fig, ax = plt.subplots(figsize=(6, 6))\n",
    "        ax.pie(counts, labels=counts.index, autopct='%1.1f%%', startangle=140)\n",
    "        ax.set_title(title)\n",
    "        plt.tight_layout()\n",
    "        plt.show()\n",
    "        plt.close(fig)"
   ]
  }
 ],
 "metadata": {
  "kernelspec": {
   "display_name": "Python 3 (ipykernel)",
   "language": "python",
   "name": "python3"
  },
  "language_info": {
   "codemirror_mode": {
    "name": "ipython",
    "version": 3
   },
   "file_extension": ".py",
   "mimetype": "text/x-python",
   "name": "python",
   "nbconvert_exporter": "python",
   "pygments_lexer": "ipython3",
   "version": "3.9.13"
  }
 },
 "nbformat": 4,
 "nbformat_minor": 2
}
